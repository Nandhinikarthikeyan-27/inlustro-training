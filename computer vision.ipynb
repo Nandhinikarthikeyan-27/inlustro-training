{
 "cells": [
  {
   "cell_type": "code",
   "execution_count": null,
   "id": "cbd980f3",
   "metadata": {},
   "outputs": [],
   "source": [
    "import cv2\n",
    "image = cv2imread('Pomeranian-1.webp')\n",
    "gray_image = cv2.cvtColor(image, cv2.COLOR_BGR2GRAY)\n",
    "cv2.imwrite('Pomeranian-1-gray.webp', gray_image)\n",
    "cv2.imshow('Grayscale Image', gray_image)\n",
    "edges = cv2.Canny(gray_image, 100, 200)\n",
    "cv2.imwrite('Pomeranian-1-edges.webp', edges)\n",
    "cv2.imshow('Edge Detection', edges)\n",
    "cv2.waitKey(0)\n",
    "cv2.destroyAllWindows"
   ]
  }
 ],
 "metadata": {
  "kernelspec": {
   "display_name": "Python 3 (ipykernel)",
   "language": "python",
   "name": "python3"
  },
  "language_info": {
   "codemirror_mode": {
    "name": "ipython",
    "version": 3
   },
   "file_extension": ".py",
   "mimetype": "text/x-python",
   "name": "python",
   "nbconvert_exporter": "python",
   "pygments_lexer": "ipython3",
   "version": "3.9.7"
  }
 },
 "nbformat": 4,
 "nbformat_minor": 5
}
